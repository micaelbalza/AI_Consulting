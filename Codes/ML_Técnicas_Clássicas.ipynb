{
 "cells": [
  {
   "cell_type": "markdown",
   "id": "31bfca2f",
   "metadata": {},
   "source": [
    "\n",
    "# Técnicas Clássicas de Machine Learning\n",
    "Neste notebook vamos abordar as técnicas clássicas de Machine Learning:\n",
    "apresenta uma explicação didática e exemplos práticos de algumas técnicas clássicas de Machine Learning, utilizando um dataset de reclamações de usuários. As técnicas abordadas serão:\n",
    "\n",
    "1. **Árvore de Decisão (Decision Tree)**\n",
    "2. **Floresta Aleatória (Random Forest)**\n",
    "3. **Naive Bayes**\n",
    "\n",
    "Aplicadas ao dataset de *reclamações de usuários*. Para isso vamos usar embeddings. \n",
    "\n",
    "# Técnicas Clássicas de Machine Learning\r\n",
    "\r\n",
    "Neste notebook, exploraremos técnicas clássicas de **Machine Learning** c e exemplos práticos. Utilizaremos um dataset de reclamações de usuários para aplicar e demonstrar o funcionamento de três modelos amplamente utilizados:\r\n",
    "\r\n",
    "1. **Árvore de Decisão (Decision Tree):** Simples e interpretável, usada para classificação.\r\n",
    "2. **Floresta Aleatória (Random Forest):** Combinação de árvores para maior precisão.\r\n",
    "3. **Naive Bayes:** Baseado no Teorema de Bayes, eficiente para classificação de texto.\r\n",
    "\r\n",
    "Usaremos **embeddings** para transformar textos em representações numéricas e, com base nessas representações, treinaremos os. ativo**.\r\n",
    "\n"
   ]
  },
  {
   "cell_type": "markdown",
   "id": "3eb9646b-78a5-4a3f-81e1-4b7fd28d6a92",
   "metadata": {},
   "source": [
    "---\n",
    "---\n"
   ]
  },
  {
   "cell_type": "markdown",
   "id": "6457161b-2e81-493b-bd3b-23896b31ec38",
   "metadata": {},
   "source": [
    "# Árvore de Decisão (Decision Tree)\n",
    "\n",
    "## O que é uma Árvore de Decisão?\n",
    "Uma **Árvore de Decisão** é um modelo de Machine Learning usado para **tomar decisões** ou **classificar dados**. Ela funciona como uma sequência de perguntas ou condições que ajudam a dividir os dados até chegar a uma decisão final.\n",
    "\n",
    "Imagine que você precisa decidir se leva um guarda-chuva para sair. Você pode pensar assim:\n",
    "1. Está chovendo?  \n",
    "   - Se SIM: Leve o guarda-chuva.  \n",
    "   - Se NÃO: Pergunte outra coisa.  \n",
    "2. O céu está nublado?  \n",
    "   - Se SIM: Talvez seja bom levar o guarda-chuva.  \n",
    "   - Se NÃO: Não leve o guarda-chuva.\n",
    "\n",
    "A Árvore de Decisão organiza essas perguntas em um formato visual com **nós** (as perguntas) e **ramificações** (as respostas)."
   ]
  },
  {
   "cell_type": "markdown",
   "id": "2d39de36-9244-406e-b6b6-c18a3bc724d8",
   "metadata": {},
   "source": [
    "<img src=\"DT.drawio.png\" alt=\"Decision Tree\" width=\"500\"/>\r\n"
   ]
  },
  {
   "cell_type": "markdown",
   "id": "961b1c3b-7c62-4825-b41a-bffdc2a8a292",
   "metadata": {},
   "source": [
    "## Como Funciona?\n",
    "1. **Ponto de Partida**: A árvore começa com uma pergunta geral sobre os dados (chamado **nó raiz**).  \n",
    "   Exemplo: *\"Qual a palavra mais importante no texto da reclamação?\"*\n",
    "\n",
    "2. **Divisão dos Dados**: Com base nas respostas, os dados são divididos em grupos menores.  \n",
    "   Exemplo: *\"Se o texto contém palavras negativas como 'ruim' ou 'péssimo', classifique como 'sentimento negativo'.\"*\n",
    "\n",
    "3. **Classificação Final**: A árvore continua fazendo perguntas até chegar a uma **folha**, onde está a resposta final.  \n",
    "   Exemplo: *\"Reclamação é classificada como 'positivo', 'neutro' ou 'negativo'.\"*\n",
    "\n",
    "---\n",
    "\n",
    "## Por que usar uma Árvore de Decisão?\n",
    "1. **Simplicidade**: É fácil de entender e interpretar, pois se parece com um fluxograma.\n",
    "2. **Rápida**: Treina rapidamente em datasets pequenos ou médios.\n",
    "3. **Versátil**: Pode ser usada para classificação (categorias) ou regressão (valores numéricos).\n",
    "\n",
    "---\n",
    "\n",
    "## Limitações\n",
    "1. **Pode \"memorizar\" os dados (overfitting)**: Se a árvore for muito profunda, ela pode se tornar muito específica e errar em novos dados.\n",
    "2. **Sensível a mudanças nos dados**: Pequenas mudanças no dataset podem gerar árvores completamente diferentes.\n",
    "\n",
    "---\n",
    "\n",
    "## O que faremos com uma Árvore de Decisão?\n",
    "Neste notebook, usaremos uma Árvore de Decisão para **classificar o sentimento das reclamações** (**positivo**, **neutro**, ou **negativo**) com base no texto da reclamação.\n",
    "\n",
    "As etapas serão:\n",
    "1. **Pré-processar o texto**: Transformar os textos em números usando um método chamado **TF-IDF**.\n",
    "2. **Treinar o modelo**: Ensinar a árvore de decisão a identificar padrões no texto.\n",
    "3. **Avaliar o modelo**: Verificar se o modelo consegue classificar os sentimentos corretamente.\n",
    "4. **Interpretar o modelo**: Visualizar a árvore e entender como ela toma as decisões.\n"
   ]
  },
  {
   "cell_type": "markdown",
   "id": "a313ca5e",
   "metadata": {},
   "source": [
    "\n",
    "## Carregando e Explorando o Dataset\n",
    "Primeiro, carregamos o dataset para entender sua estrutura e preparar os dados para análise.\n",
    "\n",
    "```python\n",
    "import pandas as pd\n",
    "\n",
    "# Carregar o dataset\n",
    "data = pd.read_csv('reclamações.csv')\n",
    "\n",
    "# Mostrar as primeiras linhas\n",
    "print(data.head())\n",
    "```\n"
   ]
  },
  {
   "cell_type": "markdown",
   "id": "557b8401",
   "metadata": {},
   "source": [
    "\n",
    "## Preparação dos Dados\n",
    "Para as técnicas de Machine Learning, precisamos preparar o dataset. Isso inclui:\n",
    "\n",
    "1. Selecionar as colunas relevantes.\n",
    "2. Transformar os rótulos (**sentimento**) em valores numéricos.\n",
    "3. Dividir o dataset em treino e teste.\n",
    "\n",
    "```python\n",
    "from sklearn.model_selection import train_test_split\n",
    "\n",
    "# Seleção de colunas relevantes\n",
    "data = data[['descricao', 'sentimento']]\n",
    "\n",
    "# Remoção de valores nulos\n",
    "data.dropna(inplace=True)\n",
    "\n",
    "# Transformar rótulos em números\n",
    "data['sentimento'] = data['sentimento'].map({'positive': 2, 'neutral': 1, 'negative': 0})\n",
    "\n",
    "# Dividir em treino e teste\n",
    "X = data['descricao']\n",
    "y = data['sentimento']\n",
    "X_train, X_test, y_train, y_test = train_test_split(X, y, test_size=0.2, random_state=42)\n",
    "\n",
    "print(\"Dados de treino e teste preparados!\")\n",
    "```\n"
   ]
  },
  {
   "cell_type": "markdown",
   "id": "4d484ba2",
   "metadata": {},
   "source": [
    "\n",
    "## Árvore de Decisão\n",
    "Uma **Árvore de Decisão** é um modelo que divide os dados em ramificações com base em condições. É fácil de interpretar e eficiente para problemas simples.\n",
    "\n",
    "### Implementação\n",
    "Usaremos o **TfidfVectorizer** para converter o texto em vetores numéricos e o classificador `DecisionTreeClassifier` para treinar e prever.\n",
    "\n",
    "```python\n",
    "from sklearn.feature_extraction.text import TfidfVectorizer\n",
    "from sklearn.tree import DecisionTreeClassifier\n",
    "from sklearn.metrics import classification_report\n",
    "\n",
    "# Vetorização dos textos\n",
    "vectorizer = TfidfVectorizer()\n",
    "X_train_vec = vectorizer.fit_transform(X_train)\n",
    "X_test_vec = vectorizer.transform(X_test)\n",
    "\n",
    "# Treinamento da Árvore de Decisão\n",
    "dt_model = DecisionTreeClassifier(random_state=42)\n",
    "dt_model.fit(X_train_vec, y_train)\n",
    "\n",
    "# Avaliação\n",
    "y_pred_dt = dt_model.predict(X_test_vec)\n",
    "print(\"Relatório de Classificação - Árvore de Decisão:\")\n",
    "print(classification_report(y_test, y_pred_dt))\n",
    "```\n"
   ]
  },
  {
   "cell_type": "markdown",
   "id": "39c376ef",
   "metadata": {},
   "source": [
    "\n",
    "## Floresta Aleatória\n",
    "Uma **Floresta Aleatória** combina várias árvores de decisão para melhorar a precisão e reduzir o overfitting.\n",
    "\n",
    "### Implementação\n",
    "Usaremos o mesmo vetor de texto e a classe `RandomForestClassifier`.\n",
    "\n",
    "```python\n",
    "from sklearn.ensemble import RandomForestClassifier\n",
    "\n",
    "# Treinamento da Floresta Aleatória\n",
    "rf_model = RandomForestClassifier(random_state=42, n_estimators=100)\n",
    "rf_model.fit(X_train_vec, y_train)\n",
    "\n",
    "# Avaliação\n",
    "y_pred_rf = rf_model.predict(X_test_vec)\n",
    "print(\"Relatório de Classificação - Floresta Aleatória:\")\n",
    "print(classification_report(y_test, y_pred_rf))\n",
    "```\n"
   ]
  },
  {
   "cell_type": "markdown",
   "id": "8931af52",
   "metadata": {},
   "source": [
    "\n",
    "## Naive Bayes\n",
    "O **Naive Bayes** é baseado no Teorema de Bayes, assumindo que os atributos são independentes. É rápido e eficiente para classificação de texto.\n",
    "\n",
    "### Implementação\n",
    "Usaremos o `MultinomialNB` para treinar o modelo.\n",
    "\n",
    "```python\n",
    "from sklearn.naive_bayes import MultinomialNB\n",
    "\n",
    "# Treinamento do Naive Bayes\n",
    "nb_model = MultinomialNB()\n",
    "nb_model.fit(X_train_vec, y_train)\n",
    "\n",
    "# Avaliação\n",
    "y_pred_nb = nb_model.predict(X_test_vec)\n",
    "print(\"Relatório de Classificação - Naive Bayes:\")\n",
    "print(classification_report(y_test, y_pred_nb))\n",
    "```\n"
   ]
  },
  {
   "cell_type": "markdown",
   "id": "a6cbac92",
   "metadata": {},
   "source": [
    "\n",
    "## Conclusão\n",
    "Neste notebook, exploramos três técnicas clássicas de Machine Learning:\n",
    "\n",
    "1. **Árvore de Decisão**: Simples e interpretável, mas pode sofrer de overfitting.\n",
    "2. **Floresta Aleatória**: Combina árvores para maior precisão e generalização.\n",
    "3. **Naive Bayes**: Rápido e eficiente, especialmente para texto.\n",
    "\n",
    "Cada técnica tem suas vantagens e desvantagens. Experimente ajustar os parâmetros ou aplicar em outros datasets para explorar mais!\n"
   ]
  }
 ],
 "metadata": {
  "kernelspec": {
   "display_name": "Python 3 (ipykernel)",
   "language": "python",
   "name": "python3"
  },
  "language_info": {
   "codemirror_mode": {
    "name": "ipython",
    "version": 3
   },
   "file_extension": ".py",
   "mimetype": "text/x-python",
   "name": "python",
   "nbconvert_exporter": "python",
   "pygments_lexer": "ipython3",
   "version": "3.12.0"
  }
 },
 "nbformat": 4,
 "nbformat_minor": 5
}
