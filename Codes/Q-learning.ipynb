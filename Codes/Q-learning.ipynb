{
 "cells": [
  {
   "cell_type": "markdown",
   "metadata": {},
   "source": [
    "# Q-Learning\n",
    "\n",
    "Este notebook demonstra a implementação do algoritmo de Q-Learning, uma técnica de Aprendizado por Reforço. \n",
    "O Q-Learning é amplamente utilizado para resolver problemas onde um agente aprende a tomar decisões em um ambiente, \n",
    "maximizando uma recompensa cumulativa.\n",
    "\n",
    "## Estrutura do Notebook\n",
    "1. **Definição do Ambiente** - Inicializamos e definimos o ambiente no qual o agente irá operar.\n",
    "2. **Configuração do Q-Learning** - Explicamos os parâmetros e como a tabela Q é inicializada.\n",
    "3. **Treinamento do Agente** - Iteramos através de múltiplos episódios para treinar o agente.\n",
    "4. **Avaliação** - Após o treinamento, avaliamos o desempenho do agente.\n",
    "5. **Visualização dos Resultados** - Incluímos gráficos ou representações dos resultados.\n",
    "\n",
    "---"
   ]
  },
  {
   "cell_type": "markdown",
   "metadata": {
    "id": "tl6NdWbhZTr3"
   },
   "source": [
    "Step 1: Install dependencies"
   ]
  },
  {
   "cell_type": "code",
   "execution_count": 1,
   "metadata": {
    "colab": {
     "base_uri": "https://localhost:8080/"
    },
    "executionInfo": {
     "elapsed": 33723,
     "status": "ok",
     "timestamp": 1733400829106,
     "user": {
      "displayName": "Lucileide Dantas",
      "userId": "01745054965348490906"
     },
     "user_tz": 180
    },
    "id": "sMVTzZKHXPHV",
    "outputId": "f13cbe36-483d-4016-b0cf-bba27ccd62e3",
    "scrolled": true
   },
   "outputs": [
    {
     "name": "stdout",
     "output_type": "stream",
     "text": [
      "Requirement already satisfied: gym in c:\\users\\lamii\\appdata\\local\\programs\\python\\python312\\lib\\site-packages (0.26.2)\n",
      "Requirement already satisfied: numpy>=1.18.0 in c:\\users\\lamii\\appdata\\local\\programs\\python\\python312\\lib\\site-packages (from gym) (1.26.2)\n",
      "Requirement already satisfied: cloudpickle>=1.2.0 in c:\\users\\lamii\\appdata\\local\\programs\\python\\python312\\lib\\site-packages (from gym) (3.1.0)\n",
      "Requirement already satisfied: gym_notices>=0.0.4 in c:\\users\\lamii\\appdata\\local\\programs\\python\\python312\\lib\\site-packages (from gym) (0.0.8)\n",
      "Requirement already satisfied: pygame in c:\\users\\lamii\\appdata\\local\\programs\\python\\python312\\lib\\site-packages (2.6.1)\n",
      "Requirement already satisfied: numpy in c:\\users\\lamii\\appdata\\local\\programs\\python\\python312\\lib\\site-packages (1.26.2)\n",
      "Requirement already satisfied: huggingface_hub in c:\\users\\lamii\\appdata\\local\\programs\\python\\python312\\lib\\site-packages (0.26.2)\n",
      "Requirement already satisfied: filelock in c:\\users\\lamii\\appdata\\local\\programs\\python\\python312\\lib\\site-packages (from huggingface_hub) (3.16.1)\n",
      "Requirement already satisfied: fsspec>=2023.5.0 in c:\\users\\lamii\\appdata\\local\\programs\\python\\python312\\lib\\site-packages (from huggingface_hub) (2023.10.0)\n",
      "Requirement already satisfied: packaging>=20.9 in c:\\users\\lamii\\appdata\\local\\programs\\python\\python312\\lib\\site-packages (from huggingface_hub) (23.2)\n",
      "Requirement already satisfied: pyyaml>=5.1 in c:\\users\\lamii\\appdata\\local\\programs\\python\\python312\\lib\\site-packages (from huggingface_hub) (6.0.1)\n",
      "Requirement already satisfied: requests in c:\\users\\lamii\\appdata\\local\\programs\\python\\python312\\lib\\site-packages (from huggingface_hub) (2.31.0)\n",
      "Requirement already satisfied: tqdm>=4.42.1 in c:\\users\\lamii\\appdata\\local\\programs\\python\\python312\\lib\\site-packages (from huggingface_hub) (4.66.1)\n",
      "Requirement already satisfied: typing-extensions>=3.7.4.3 in c:\\users\\lamii\\appdata\\local\\programs\\python\\python312\\lib\\site-packages (from huggingface_hub) (4.12.2)\n",
      "Requirement already satisfied: colorama in c:\\users\\lamii\\appdata\\local\\programs\\python\\python312\\lib\\site-packages (from tqdm>=4.42.1->huggingface_hub) (0.4.6)\n",
      "Requirement already satisfied: charset-normalizer<4,>=2 in c:\\users\\lamii\\appdata\\local\\programs\\python\\python312\\lib\\site-packages (from requests->huggingface_hub) (3.3.2)\n",
      "Requirement already satisfied: idna<4,>=2.5 in c:\\users\\lamii\\appdata\\local\\programs\\python\\python312\\lib\\site-packages (from requests->huggingface_hub) (3.4)\n",
      "Requirement already satisfied: urllib3<3,>=1.21.1 in c:\\users\\lamii\\appdata\\local\\programs\\python\\python312\\lib\\site-packages (from requests->huggingface_hub) (2.1.0)\n",
      "Requirement already satisfied: certifi>=2017.4.17 in c:\\users\\lamii\\appdata\\local\\programs\\python\\python312\\lib\\site-packages (from requests->huggingface_hub) (2023.11.17)\n"
     ]
    },
    {
     "name": "stderr",
     "output_type": "stream",
     "text": [
      "ERROR: Invalid requirement: '#': Expected package name at the start of dependency specifier\n",
      "    #\n",
      "    ^\n"
     ]
    },
    {
     "name": "stdout",
     "output_type": "stream",
     "text": [
      "Requirement already satisfied: imageio in c:\\users\\lamii\\appdata\\local\\programs\\python\\python312\\lib\\site-packages (2.36.1)\n",
      "Requirement already satisfied: imageio_ffmpeg in c:\\users\\lamii\\appdata\\local\\programs\\python\\python312\\lib\\site-packages (0.5.1)\n",
      "Requirement already satisfied: numpy in c:\\users\\lamii\\appdata\\local\\programs\\python\\python312\\lib\\site-packages (from imageio) (1.26.2)\n",
      "Requirement already satisfied: pillow>=8.3.2 in c:\\users\\lamii\\appdata\\local\\programs\\python\\python312\\lib\\site-packages (from imageio) (10.1.0)\n",
      "Requirement already satisfied: setuptools in c:\\users\\lamii\\appdata\\local\\programs\\python\\python312\\lib\\site-packages (from imageio_ffmpeg) (75.7.0)\n"
     ]
    }
   ],
   "source": [
    "!pip install gym --upgrade\n",
    "!pip install pygame\n",
    "!pip install numpy\n",
    "\n",
    "!pip install huggingface_hub\n",
    "!pip install pyyaml==6.0 # avoid key error metadata\n",
    "!pip install imageio imageio_ffmpeg"
   ]
  },
  {
   "cell_type": "markdown",
   "metadata": {
    "id": "MAyAga5vZuaU"
   },
   "source": [
    "Step 2: Import the packages"
   ]
  },
  {
   "cell_type": "code",
   "execution_count": 2,
   "metadata": {
    "id": "ZsSp4IpmZtPR"
   },
   "outputs": [],
   "source": [
    "import numpy as np\n",
    "import gym #OpenAI - biblioteca que fornece um conjunto padronizado de ambientes de simulação para testar e desenvolver algoritmos de Aprendizagem por Reforço (RL).\n",
    "import random\n",
    "import imageio\n",
    "import os\n"
   ]
  },
  {
   "cell_type": "markdown",
   "metadata": {
    "id": "JSGfwA7xal4v"
   },
   "source": [
    "Frozen Lake"
   ]
  },
  {
   "cell_type": "code",
   "execution_count": 3,
   "metadata": {
    "id": "d-piNOXFbcx-"
   },
   "outputs": [],
   "source": [
    "# Create the FrozenLake-v1 environment using 4x4 map and non-slippery version\n",
    "env = gym.make(\"FrozenLake-v1\",map_name=\"4x4\",is_slippery=False)"
   ]
  },
  {
   "cell_type": "code",
   "execution_count": 4,
   "metadata": {
    "colab": {
     "base_uri": "https://localhost:8080/"
    },
    "executionInfo": {
     "elapsed": 259,
     "status": "ok",
     "timestamp": 1733400854768,
     "user": {
      "displayName": "Lucileide Dantas",
      "userId": "01745054965348490906"
     },
     "user_tz": 180
    },
    "id": "vPjBR7HubocY",
    "outputId": "90f50486-4621-4574-d48a-3caa6769a302"
   },
   "outputs": [
    {
     "name": "stdout",
     "output_type": "stream",
     "text": [
      "_____OBSERVATION SPACE_____ \n",
      "\n",
      "Observation Space Discrete(16)\n",
      "Sample observation 2\n"
     ]
    }
   ],
   "source": [
    "# We create our environment with gym.make(\"<name_of_the_environment>\")\n",
    "env.reset()\n",
    "print(\"_____OBSERVATION SPACE_____ \\n\")\n",
    "print(\"Observation Space\", env.observation_space)\n",
    "print(\"Sample observation\", env.observation_space.sample()) # Get a random observation"
   ]
  },
  {
   "cell_type": "code",
   "execution_count": 5,
   "metadata": {
    "colab": {
     "base_uri": "https://localhost:8080/"
    },
    "executionInfo": {
     "elapsed": 269,
     "status": "ok",
     "timestamp": 1733400863112,
     "user": {
      "displayName": "Lucileide Dantas",
      "userId": "01745054965348490906"
     },
     "user_tz": 180
    },
    "id": "x5aLzRFKb5TX",
    "outputId": "42ffd40d-f8a3-4ad4-b4bd-f3bc0aaa257a"
   },
   "outputs": [
    {
     "name": "stdout",
     "output_type": "stream",
     "text": [
      "\n",
      " _____ACTION SPACE_____ \n",
      "\n",
      "Action Space Shape 4\n",
      "Action Space Sample 3\n"
     ]
    }
   ],
   "source": [
    "print(\"\\n _____ACTION SPACE_____ \\n\")\n",
    "print(\"Action Space Shape\", env.action_space.n)\n",
    "print(\"Action Space Sample\", env.action_space.sample()) # Take a random action"
   ]
  },
  {
   "cell_type": "markdown",
   "metadata": {
    "id": "tcvQIH1OcU9o"
   },
   "source": [
    "Create and Initialize the Q-table"
   ]
  },
  {
   "cell_type": "code",
   "execution_count": 6,
   "metadata": {
    "colab": {
     "base_uri": "https://localhost:8080/"
    },
    "executionInfo": {
     "elapsed": 283,
     "status": "ok",
     "timestamp": 1733400888912,
     "user": {
      "displayName": "Lucileide Dantas",
      "userId": "01745054965348490906"
     },
     "user_tz": 180
    },
    "id": "2MWsAdNccCqH",
    "outputId": "f9a5a276-86c2-479b-fa4f-ba3acc9835d7"
   },
   "outputs": [
    {
     "name": "stdout",
     "output_type": "stream",
     "text": [
      "There are  16  possible states\n",
      "There are  4  possible actions\n"
     ]
    }
   ],
   "source": [
    "state_space = env.observation_space.n\n",
    "print(\"There are \", state_space, \" possible states\")\n",
    "\n",
    "action_space = env.action_space.n\n",
    "print(\"There are \", action_space, \" possible actions\")"
   ]
  },
  {
   "cell_type": "code",
   "execution_count": 7,
   "metadata": {
    "id": "jpoWZicwcbHI"
   },
   "outputs": [],
   "source": [
    "# Let's create our Qtable of size (state_space, action_space) and initialized each values at 0 using np.zeros\n",
    "def initialize_q_table(state_space, action_space):\n",
    "  Qtable = np.zeros((state_space,action_space))\n",
    "  return Qtable"
   ]
  },
  {
   "cell_type": "code",
   "execution_count": 8,
   "metadata": {
    "colab": {
     "base_uri": "https://localhost:8080/"
    },
    "executionInfo": {
     "elapsed": 260,
     "status": "ok",
     "timestamp": 1733401040646,
     "user": {
      "displayName": "Lucileide Dantas",
      "userId": "01745054965348490906"
     },
     "user_tz": 180
    },
    "id": "BzoYTizlcpGv",
    "outputId": "f8a33522-44be-4aac-a555-684da01f3657"
   },
   "outputs": [
    {
     "data": {
      "text/plain": [
       "array([[0., 0., 0., 0.],\n",
       "       [0., 0., 0., 0.],\n",
       "       [0., 0., 0., 0.],\n",
       "       [0., 0., 0., 0.],\n",
       "       [0., 0., 0., 0.],\n",
       "       [0., 0., 0., 0.],\n",
       "       [0., 0., 0., 0.],\n",
       "       [0., 0., 0., 0.],\n",
       "       [0., 0., 0., 0.],\n",
       "       [0., 0., 0., 0.],\n",
       "       [0., 0., 0., 0.],\n",
       "       [0., 0., 0., 0.],\n",
       "       [0., 0., 0., 0.],\n",
       "       [0., 0., 0., 0.],\n",
       "       [0., 0., 0., 0.],\n",
       "       [0., 0., 0., 0.]])"
      ]
     },
     "execution_count": 8,
     "metadata": {},
     "output_type": "execute_result"
    }
   ],
   "source": [
    "Qtable_frozenlake = initialize_q_table(state_space, action_space)\n",
    "Qtable_frozenlake"
   ]
  },
  {
   "cell_type": "markdown",
   "metadata": {
    "id": "0kZI_ZtidEfW"
   },
   "source": [
    "Define the epsilon-greedy policy"
   ]
  },
  {
   "cell_type": "code",
   "execution_count": 9,
   "metadata": {
    "id": "jzK_YgmmdDFK"
   },
   "outputs": [],
   "source": [
    "def epsilon_greedy_policy(Qtable, state, epsilon):\n",
    "  # Randomly generate a number between 0 and 1\n",
    "  random_int = random.uniform(0,1)\n",
    "  # if random_int > greater than epsilon --> exploitation\n",
    "  if random_int > epsilon:\n",
    "    # Take the action with the highest value given a state\n",
    "    # np.argmax can be useful here\n",
    "    action = np.argmax(Qtable[state])\n",
    "  # else --> exploration\n",
    "  else:\n",
    "    action = env.action_space.sample()\n",
    "\n",
    "  return action"
   ]
  },
  {
   "cell_type": "markdown",
   "metadata": {
    "id": "jRNQLYLBeSrs"
   },
   "source": [
    "hyperparameters"
   ]
  },
  {
   "cell_type": "code",
   "execution_count": 10,
   "metadata": {
    "id": "6SXHOYEOeel3"
   },
   "outputs": [],
   "source": [
    "# Training parameters\n",
    "n_training_episodes = 10000  # Total training episodes\n",
    "learning_rate = 0.7          # Learning rate\n",
    "\n",
    "# Evaluation parameters\n",
    "#n_eval_episodes = 100        # Total number of test episodes\n",
    "\n",
    "# Environment parameters\n",
    "env_id = \"FrozenLake-v1\"     # Name of the environment\n",
    "max_steps = 99               # Max steps per episode\n",
    "gamma = 0.95                 # Discounting rate\n",
    "eval_seed = []               # The evaluation seed of the environment\n",
    "\n",
    "# Exploration parameters\n",
    "epsilon = 1.0                 # Exploration rate\n",
    "max_epsilon = 1.0             # Exploration probability at start\n",
    "min_epsilon = 0.05            # Minimum exploration probability\n",
    "decay_rate = 0.0005            # Exponential decay rate for exploration prob"
   ]
  },
  {
   "cell_type": "markdown",
   "metadata": {
    "id": "Zw6NEXKsejSA"
   },
   "source": [
    "Training"
   ]
  },
  {
   "cell_type": "code",
   "execution_count": 11,
   "metadata": {
    "id": "MwKe8UKBeqsP"
   },
   "outputs": [],
   "source": [
    "def train(n_training_episodes, min_epsilon, max_epsilon, decay_rate, env, max_steps, Qtable):\n",
    "  for episode in range(n_training_episodes):\n",
    "    # Reduce epsilon (because we need less and less exploration)\n",
    "    epsilon = min_epsilon + (max_epsilon - min_epsilon)*np.exp(-decay_rate*episode)\n",
    "    # Reset the environment\n",
    "    state, info = env.reset()\n",
    "    step = 0\n",
    "    done = False\n",
    "\n",
    "    # repeat\n",
    "    for step in range(max_steps):\n",
    "      # Choose the action At using epsilon greedy policy\n",
    "      action = epsilon_greedy_policy(Qtable, state, epsilon)\n",
    "\n",
    "      # Take action At and observe Rt+1 and St+1\n",
    "      # Take the action (a) and observe the outcome state(s') and reward (r)\n",
    "      new_state, reward, done, truncated, info = env.step(action)\n",
    "\n",
    "      # Update Q(s,a):= Q(s,a) + lr [R(s,a) + gamma * max Q(s',a') - Q(s,a)]\n",
    "      Qtable[state][action] = Qtable[state][action] + learning_rate * (reward + gamma * np.max(Qtable[new_state]) - Qtable[state][action])\n",
    "\n",
    "      # If done, finish the episode\n",
    "      if done or truncated:\n",
    "        break\n",
    "\n",
    "      # Our state is the new state\n",
    "      state = new_state\n",
    "  return Qtable"
   ]
  },
  {
   "cell_type": "code",
   "execution_count": 12,
   "metadata": {
    "colab": {
     "base_uri": "https://localhost:8080/"
    },
    "executionInfo": {
     "elapsed": 2319,
     "status": "ok",
     "timestamp": 1733401047082,
     "user": {
      "displayName": "Lucileide Dantas",
      "userId": "01745054965348490906"
     },
     "user_tz": 180
    },
    "id": "ezyWKBoJeuj2",
    "outputId": "04541015-9d17-44ac-f72b-31d5f08999ea"
   },
   "outputs": [
    {
     "name": "stderr",
     "output_type": "stream",
     "text": [
      "C:\\Users\\LAMII\\AppData\\Local\\Programs\\Python\\Python312\\Lib\\site-packages\\gym\\utils\\passive_env_checker.py:233: DeprecationWarning: `np.bool8` is a deprecated alias for `np.bool_`.  (Deprecated NumPy 1.24)\n",
      "  if not isinstance(terminated, (bool, np.bool8)):\n"
     ]
    },
    {
     "data": {
      "text/plain": [
       "array([[0.73509189, 0.77378094, 0.77378094, 0.73509189],\n",
       "       [0.73509189, 0.        , 0.81450625, 0.77378094],\n",
       "       [0.77378094, 0.857375  , 0.77378094, 0.81450625],\n",
       "       [0.81450625, 0.        , 0.77378094, 0.77378094],\n",
       "       [0.77378094, 0.81450625, 0.        , 0.73509189],\n",
       "       [0.        , 0.        , 0.        , 0.        ],\n",
       "       [0.        , 0.9025    , 0.        , 0.81450625],\n",
       "       [0.        , 0.        , 0.        , 0.        ],\n",
       "       [0.81450625, 0.        , 0.857375  , 0.77378094],\n",
       "       [0.81450625, 0.9025    , 0.9025    , 0.        ],\n",
       "       [0.857375  , 0.95      , 0.        , 0.857375  ],\n",
       "       [0.        , 0.        , 0.        , 0.        ],\n",
       "       [0.        , 0.        , 0.        , 0.        ],\n",
       "       [0.        , 0.9025    , 0.95      , 0.857375  ],\n",
       "       [0.9025    , 0.95      , 1.        , 0.9025    ],\n",
       "       [0.        , 0.        , 0.        , 0.        ]])"
      ]
     },
     "execution_count": 12,
     "metadata": {},
     "output_type": "execute_result"
    }
   ],
   "source": [
    "Qtable_frozenlake = train(n_training_episodes, min_epsilon, max_epsilon, decay_rate, env, max_steps, Qtable_frozenlake)\n",
    "Qtable_frozenlake"
   ]
  },
  {
   "cell_type": "code",
   "execution_count": 13,
   "metadata": {},
   "outputs": [
    {
     "name": "stdout",
     "output_type": "stream",
     "text": [
      "Iniciando a avaliação do agente...\n",
      "Avaliação concluída. Recompensa total: 1.0\n",
      "Passos tomados pelo agente: [0, 4, 8, 9, 13, 14, 15]\n"
     ]
    }
   ],
   "source": [
    "# Avaliação do Agente com Registro dos Passos\n",
    "state = env.reset()\n",
    "if isinstance(state, tuple):\n",
    "    state = state[0]  # Caso o estado seja retornado como uma tupla\n",
    "done = False\n",
    "total_reward = 0\n",
    "steps = []  # Lista para registrar os passos\n",
    "\n",
    "print(\"Iniciando a avaliação do agente...\")\n",
    "\n",
    "# Episódio único para avaliação\n",
    "while not done:\n",
    "    steps.append(state)  # Armazena o estado atual\n",
    "    action = np.argmax(Qtable_frozenlake[state, :])  # Escolhe a melhor ação\n",
    "    step_return = env.step(action)\n",
    "\n",
    "    if len(step_return) == 5:\n",
    "        next_state, reward, done, truncated, info = step_return\n",
    "        done = done or truncated\n",
    "    elif len(step_return) == 4:\n",
    "        next_state, reward, done, info = step_return\n",
    "    else:\n",
    "        next_state, reward, done = step_return\n",
    "        info = {}\n",
    "\n",
    "    if isinstance(next_state, tuple):\n",
    "        next_state = next_state[0]\n",
    "\n",
    "    total_reward += reward\n",
    "    state = next_state\n",
    "\n",
    "steps.append(state)  # Adiciona o último estado\n",
    "print(f\"Avaliação concluída. Recompensa total: {total_reward}\")\n",
    "print(f\"Passos tomados pelo agente: {steps}\")\n"
   ]
  },
  {
   "cell_type": "markdown",
   "metadata": {
    "id": "qdgiWbiXvYgk"
   },
   "source": [
    "**Valores de Q:**\n",
    "\n",
    "![image_89d269a6d9.gif](data:image/gif;base64,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)\n",
    "\n",
    "Esquerda (0):\n",
    "\n",
    "Baixo (1):\n",
    "\n",
    "Direita (2):\n",
    "\n",
    "Cima (3):"
   ]
  },
  {
   "cell_type": "markdown",
   "metadata": {
    "id": "qFwxpmA6gBaV"
   },
   "source": [
    "Reference:https://www.datacamp.com/tutorial/introduction-q-learning-beginner-tutorial"
   ]
  }
 ],
 "metadata": {
  "colab": {
   "provenance": [
    {
     "file_id": "1qcn6nhU58bHsuq32wa9N0AnVVk2TuwW5",
     "timestamp": 1736269056096
    }
   ]
  },
  "kernelspec": {
   "display_name": "Python 3 (ipykernel)",
   "language": "python",
   "name": "python3"
  },
  "language_info": {
   "codemirror_mode": {
    "name": "ipython",
    "version": 3
   },
   "file_extension": ".py",
   "mimetype": "text/x-python",
   "name": "python",
   "nbconvert_exporter": "python",
   "pygments_lexer": "ipython3",
   "version": "3.12.0"
  }
 },
 "nbformat": 4,
 "nbformat_minor": 4
}
